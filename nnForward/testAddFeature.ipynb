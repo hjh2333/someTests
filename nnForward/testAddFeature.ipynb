{
 "cells": [
  {
   "cell_type": "code",
   "execution_count": 3,
   "id": "46612fde",
   "metadata": {},
   "outputs": [],
   "source": [
    "import torch"
   ]
  },
  {
   "cell_type": "code",
   "execution_count": 4,
   "id": "4efd17df",
   "metadata": {},
   "outputs": [],
   "source": [
    "vision_outputs = [torch.tensor([1,1,1]), torch.tensor([1,1,1])]"
   ]
  },
  {
   "cell_type": "code",
   "execution_count": 6,
   "id": "2de42f4d",
   "metadata": {},
   "outputs": [],
   "source": [
    "image_embeds = vision_outputs[1]"
   ]
  },
  {
   "cell_type": "code",
   "execution_count": 7,
   "id": "7e452c2b",
   "metadata": {},
   "outputs": [
    {
     "data": {
      "text/plain": [
       "tensor([1, 1, 1])"
      ]
     },
     "execution_count": 7,
     "metadata": {},
     "output_type": "execute_result"
    }
   ],
   "source": [
    "image_embeds"
   ]
  },
  {
   "cell_type": "code",
   "execution_count": 8,
   "id": "aa31a3d3",
   "metadata": {},
   "outputs": [
    {
     "data": {
      "text/plain": [
       "1"
      ]
     },
     "execution_count": 8,
     "metadata": {},
     "output_type": "execute_result"
    }
   ],
   "source": [
    "image_embeds.dim()"
   ]
  },
  {
   "cell_type": "code",
   "execution_count": 27,
   "id": "ae240c8a",
   "metadata": {},
   "outputs": [],
   "source": [
    "ids = torch.tensor([-1,1,1])"
   ]
  },
  {
   "cell_type": "code",
   "execution_count": 15,
   "id": "25444a6d",
   "metadata": {},
   "outputs": [],
   "source": [
    "mask = ids.ne(1)"
   ]
  },
  {
   "cell_type": "code",
   "execution_count": 16,
   "id": "f7ff101f",
   "metadata": {},
   "outputs": [
    {
     "data": {
      "text/plain": [
       "tensor([False, False, False])"
      ]
     },
     "execution_count": 16,
     "metadata": {},
     "output_type": "execute_result"
    }
   ],
   "source": [
    "mask"
   ]
  },
  {
   "cell_type": "code",
   "execution_count": 20,
   "id": "750f7525",
   "metadata": {},
   "outputs": [],
   "source": [
    "zero_tensor = torch.tensor(0).to(ids)# 这个和"
   ]
  },
  {
   "cell_type": "code",
   "execution_count": 21,
   "id": "8e44369f",
   "metadata": {},
   "outputs": [
    {
     "data": {
      "text/plain": [
       "tensor(0)"
      ]
     },
     "execution_count": 21,
     "metadata": {},
     "output_type": "execute_result"
    }
   ],
   "source": [
    "zero_tensor"
   ]
  },
  {
   "cell_type": "code",
   "execution_count": 30,
   "id": "0b96f27f",
   "metadata": {},
   "outputs": [
    {
     "data": {
      "text/plain": [
       "tensor([0, 1, 1])"
      ]
     },
     "execution_count": 30,
     "metadata": {},
     "output_type": "execute_result"
    }
   ],
   "source": [
    "ids"
   ]
  },
  {
   "cell_type": "code",
   "execution_count": 29,
   "id": "cb121f14",
   "metadata": {},
   "outputs": [],
   "source": [
    "ids = ids.maximum(zero_tensor)"
   ]
  },
  {
   "cell_type": "code",
   "execution_count": 41,
   "id": "dd58d8f5",
   "metadata": {},
   "outputs": [
    {
     "data": {
      "text/plain": [
       "tensor([0, 1, 1])"
      ]
     },
     "execution_count": 41,
     "metadata": {},
     "output_type": "execute_result"
    }
   ],
   "source": [
    "ids"
   ]
  },
  {
   "cell_type": "code",
   "execution_count": 46,
   "id": "02b1586c",
   "metadata": {},
   "outputs": [],
   "source": [
    "embed = torch.relu(ids)"
   ]
  },
  {
   "cell_type": "code",
   "execution_count": 49,
   "id": "db6cdb89",
   "metadata": {},
   "outputs": [
    {
     "data": {
      "text/plain": [
       "tensor([0, 1, 1, 0, 1, 1])"
      ]
     },
     "execution_count": 49,
     "metadata": {},
     "output_type": "execute_result"
    }
   ],
   "source": [
    "embed"
   ]
  },
  {
   "cell_type": "code",
   "execution_count": 33,
   "id": "1d959234",
   "metadata": {},
   "outputs": [],
   "source": [
    "embed = torch.tanh(embed)"
   ]
  },
  {
   "cell_type": "code",
   "execution_count": 48,
   "id": "e6aa9e9c",
   "metadata": {},
   "outputs": [],
   "source": [
    "embed = torch.cat([embed, ids], dim=-1)"
   ]
  },
  {
   "cell_type": "code",
   "execution_count": 52,
   "id": "60144654",
   "metadata": {},
   "outputs": [],
   "source": [
    "inputs = torch.tensor([[ 1.,  2.,  3.,  4.],\n",
    "\n",
    "        [ 2.,  4.,  6.,  8.],\n",
    "\n",
    "        [ 3.,  6.,  9., 12.]])"
   ]
  },
  {
   "cell_type": "code",
   "execution_count": 61,
   "id": "9183d460",
   "metadata": {},
   "outputs": [],
   "source": [
    "outputs1 = inputs.norm(p=2, dim=1, keepdim=False)"
   ]
  },
  {
   "cell_type": "code",
   "execution_count": 66,
   "id": "d6d4093e",
   "metadata": {},
   "outputs": [
    {
     "data": {
      "text/plain": [
       "tensor([[ 5.4772],\n",
       "        [10.9545],\n",
       "        [16.4317]])"
      ]
     },
     "execution_count": 66,
     "metadata": {},
     "output_type": "execute_result"
    }
   ],
   "source": [
    "outputs1"
   ]
  },
  {
   "cell_type": "code",
   "execution_count": 55,
   "id": "dd676302",
   "metadata": {},
   "outputs": [],
   "source": [
    "outputs1 = inputs.norm(p=2, dim=1, keepdim=True)"
   ]
  },
  {
   "cell_type": "code",
   "execution_count": 65,
   "id": "e09c8a67",
   "metadata": {},
   "outputs": [],
   "source": [
    "outputs1 = inputs.norm(p=2, dim=-1, keepdim=True)"
   ]
  },
  {
   "cell_type": "code",
   "execution_count": 63,
   "id": "2149a3cf",
   "metadata": {},
   "outputs": [],
   "source": [
    "outputs1 = inputs.norm(p=2, dim=0, keepdim=True)"
   ]
  }
 ],
 "metadata": {
  "kernelspec": {
   "display_name": "Python 3 (ipykernel)",
   "language": "python",
   "name": "python3"
  },
  "language_info": {
   "codemirror_mode": {
    "name": "ipython",
    "version": 3
   },
   "file_extension": ".py",
   "mimetype": "text/x-python",
   "name": "python",
   "nbconvert_exporter": "python",
   "pygments_lexer": "ipython3",
   "version": "3.9.12"
  }
 },
 "nbformat": 4,
 "nbformat_minor": 5
}
